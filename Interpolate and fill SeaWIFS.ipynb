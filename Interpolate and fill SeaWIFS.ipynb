{
 "cells": [
  {
   "cell_type": "code",
   "execution_count": null,
   "metadata": {
    "collapsed": true
   },
   "outputs": [],
   "source": [
    "import urllib.request\n",
    "import os.path\n",
    "import numpy\n",
    "import netCDF4\n",
    "import scipy.sparse\n",
    "import scipy.sparse.linalg\n",
    "from numba import jit\n",
    "import matplotlib.pyplot as plt\n",
    "%matplotlib inline"
   ]
  },
  {
   "cell_type": "code",
   "execution_count": null,
   "metadata": {
    "collapsed": true
   },
   "outputs": [],
   "source": [
    "def fetch_file_from_web(url, filename=None, force_download=False):\n",
    "    \"\"\"Download file from url and optionally names it as filename\"\"\"\n",
    "    if filename is None: local_file = os.path.split(url)[-1]\n",
    "    else: local_file = filename\n",
    "    if not os.path.isfile(local_file) or force_download:\n",
    "        print('Downloading file %s ...'%local_file)\n",
    "        urllib.request.urlretrieve(url, local_file)\n",
    "        print(' ...done.')"
   ]
  },
  {
   "cell_type": "code",
   "execution_count": null,
   "metadata": {
    "collapsed": true
   },
   "outputs": [],
   "source": [
    "fetch_file_from_web('ftp://ftp.gfdl.noaa.gov/home/aja/OM4_05_grid.unpacked/ocean_hgrid.nc')\n",
    "fetch_file_from_web('ftp://ftp.gfdl.noaa.gov/home/aja/OM4_05_grid.unpacked/ocean_mask.nc')"
   ]
  },
  {
   "cell_type": "code",
   "execution_count": null,
   "metadata": {},
   "outputs": [],
   "source": [
    "ocn_qlon = netCDF4.Dataset('ocean_hgrid.nc').variables['x'][::2,::2]\n",
    "ocn_qlat = netCDF4.Dataset('ocean_hgrid.nc').variables['y'][::2,::2]\n",
    "ocn_mask = netCDF4.Dataset('ocean_mask.nc').variables['mask'][:,:]\n",
    "ocn_nj, ocn_ni = ocn_mask.shape\n",
    "plt.pcolormesh(ocn_qlon, ocn_qlat, ocn_mask); plt.colorbar();"
   ]
  },
  {
   "cell_type": "code",
   "execution_count": null,
   "metadata": {},
   "outputs": [],
   "source": [
    "src_nc = netCDF4.Dataset('seawifs-clim-1997-2010.nc')\n",
    "src_data = src_nc.variables['chlor_a']\n",
    "src_nj, src_ni = src_data.shape[-2], src_data.shape[-1]\n",
    "print('src shape = %i x %i'%(src_nj,src_ni))\n",
    "src_lon = src_nc.variables[src_data.dimensions[-1]]\n",
    "src_lat = src_nc.variables[src_data.dimensions[-2]]\n",
    "src_lat = ((numpy.arange(src_nj)+0.5)/src_nj - 0.5)*180. # Recompute as doubles\n",
    "src_x0 = int( ( src_lon[0] + src_lon[-1] )/2 + 0.5) - 180.\n",
    "src_lon = ((numpy.arange(src_ni)+0.5)/src_ni)*360.+src_x0 # Recompute as doubles\n",
    "src_qlat = ((numpy.arange(src_nj+1))/src_nj - 0.5)*180. # For plotting\n",
    "src_qlon = ((numpy.arange(src_ni+1))/src_ni)*360.+src_x0 # For plotting"
   ]
  },
  {
   "cell_type": "code",
   "execution_count": null,
   "metadata": {
    "collapsed": true
   },
   "outputs": [],
   "source": [
    "def super_sample_grid(ocn_qlat, ocn_qlon, ocn_mask, src_nj, src_ni):\n",
    "    nj, ni = ocn_mask.shape\n",
    "    fac = 1\n",
    "    while fac*nj<src_nj and fac*ni<src_ni:\n",
    "        fac += 1\n",
    "    lon = numpy.zeros( (nj,fac,ni,fac) )\n",
    "    lat = numpy.zeros( (nj,fac,ni,fac) )\n",
    "    mask = numpy.zeros( (nj,fac,ni,fac) )\n",
    "    for j in range(fac):\n",
    "        ya = ( 2*j+1 ) / ( 2*fac )\n",
    "        yb = 1. - ya\n",
    "        for i in range(fac):\n",
    "            xa = ( 2*i+1 ) / ( 2*fac )\n",
    "            xb = 1. - xa\n",
    "            lon[:,j,:,i] = (  yb * ( xb * ocn_qlon[:-1,:-1] + xa * ocn_qlon[:-1,1:] )\n",
    "                            + ya * ( xb * ocn_qlon[1:,:-1] + xa * ocn_qlon[1:,1:] ) )\n",
    "            lat[:,j,:,i] = (  yb * ( xb * ocn_qlat[:-1,:-1] + xa * ocn_qlat[:-1,1:] )\n",
    "                            + ya * ( xb * ocn_qlat[1:,:-1] + xa * ocn_qlat[1:,1:] ) )\n",
    "    return lat, lon\n",
    "spr_lat, spr_lon = super_sample_grid(ocn_qlat, ocn_qlon, ocn_mask, src_nj, src_ni)"
   ]
  },
  {
   "cell_type": "code",
   "execution_count": null,
   "metadata": {},
   "outputs": [],
   "source": [
    "def latlon2ji(src_lat, src_lon, lat, lon):\n",
    "    nj, ni = len(src_lat), len(src_lon)\n",
    "    src_x0 = int( ( src_lon[0] + src_lon[-1] )/2 + 0.5) - 180.\n",
    "    j = numpy.maximum(0, numpy.floor( ( ( lat + 90. ) / 180. ) * nj - 0.5 ).astype(int))\n",
    "    i = numpy.mod( numpy.floor( ( ( lon - src_x0 ) / 360. ) * ni - 0.5 ), ni ).astype(int)\n",
    "    jp1 = numpy.minimum(nj-1, j+1)\n",
    "    ip1 = numpy.mod(i+1, ni)\n",
    "    return j,i,jp1,ip1\n",
    "y, x = src_lat[0], src_lon[0]\n",
    "latlon2ji(src_lat, src_lon, y, x)"
   ]
  },
  {
   "cell_type": "code",
   "execution_count": null,
   "metadata": {},
   "outputs": [],
   "source": [
    "def super_interp(src_lat, src_lon, data, spr_lat, spr_lon):\n",
    "    nj, ni = data.shape\n",
    "    dy, dx = 180./nj, 360./ni\n",
    "    j0, i0, j1, i1 = latlon2ji(src_lat, src_lon, spr_lat, spr_lon)\n",
    "    def ydist(lat0, lat1):\n",
    "        return numpy.abs( lat1-lat0 )\n",
    "    def xdist(lon0, lon1):\n",
    "        return numpy.abs( numpy.mod((lon1-lon0)+180, 360) - 180 )\n",
    "    w_e = xdist( src_lon[i0], spr_lon) / dx\n",
    "    w_w = 1. - w_e\n",
    "    w_n = ydist( src_lat[j0], spr_lat) / dy\n",
    "    w_s = 1. - w_n\n",
    "    return ( w_s*w_w * data[j0,i0] + w_n*w_e * data[j1,i1] ) + ( w_n*w_w * data[j1,i0] + w_s*w_e * data[j0,i1] )\n",
    "q_int = super_interp(src_lat, src_lon, src_data[0], spr_lat, spr_lon)\n",
    "## q_int = q_int.mean(axis=-1).mean(axis=1) # reduce to ocean grid\n",
    "q_int = q_int.swapaxes(1,2).reshape((ocn_nj,ocn_ni,q_int.shape[3]*q_int.shape[-1])).mean(axis=-1)\n",
    "plt.pcolormesh(ocn_qlon, ocn_qlat, numpy.ma.log10( q_int ) ); plt.colorbar();\n",
    "plt.xlim(-115,-100); plt.ylim(64,72);\n",
    "(1-q_int.mask).sum()"
   ]
  },
  {
   "cell_type": "code",
   "execution_count": null,
   "metadata": {},
   "outputs": [],
   "source": [
    "q = q_int * ocn_mask\n",
    "#q = numpy.ma.array( q_int.filled(-1e9), mask=(q_int.mask | (ocn_mask==0)) )\n",
    "#plt.pcolormesh(ocn_qlon, ocn_qlat, numpy.ma.log10( q ) ); plt.colorbar();\n",
    "plt.pcolormesh(ocn_qlon, ocn_qlat, ocn_mask ); plt.colorbar();\n",
    "plt.xlim(-115,-100); plt.ylim(64,72);\n",
    "(1-q.mask).sum(), int(ocn_mask.sum()),"
   ]
  },
  {
   "cell_type": "code",
   "execution_count": null,
   "metadata": {
    "scrolled": false
   },
   "outputs": [],
   "source": [
    "def fill_missing_data(idata, mask, verbose=False, maxiter=0, debug=False, stabilizer=1.e-14):\n",
    "    \"\"\"\n",
    "    Returns data with masked values objectively interpolated except where mask==0.\n",
    "    \n",
    "    Arguments:\n",
    "    data - numpy.ma.array with mask==True where there is missing data or land.\n",
    "    mask - numpy.array of 0 or 1, 0 for land, 1 for ocean.\n",
    "    \n",
    "    Returns a numpy.ma.array.\n",
    "    \"\"\"\n",
    "    nj,ni = idata.shape\n",
    "    fdata = idata.filled(0.) # Working with an ndarray is faster than working with a masked array\n",
    "    if debug:\n",
    "        plt.figure(); plt.pcolormesh(mask); plt.title('mask'); plt.colorbar();\n",
    "        plt.figure(); plt.pcolormesh(idata.mask); plt.title('idata.mask'); plt.colorbar();\n",
    "        plt.figure(); plt.pcolormesh(idata); plt.title('idata'); plt.colorbar();\n",
    "        plt.figure(); plt.pcolormesh(idata.filled(3.)); plt.title('idata.filled'); plt.colorbar();\n",
    "        plt.figure(); plt.pcolormesh(idata.filled(3.)); plt.title('fdata'); plt.colorbar();\n",
    "    missing_j, missing_i = numpy.where( idata.mask & (mask>0) )\n",
    "    n_missing = missing_i.size\n",
    "    if verbose:\n",
    "        print('Data shape: %i x %i = %i with %i missing values'%(nj, ni, nj*ni, numpy.count_nonzero(idata.mask)))\n",
    "        print('Mask shape: %i x %i = %i with %i land cells'%(mask.shape[0], mask.shape[1],\n",
    "                                                                 numpy.prod(mask.shape), numpy.count_nonzero(1-mask)))\n",
    "        print('Data has %i missing values in ocean'%(n_missing))\n",
    "        print('Data range: %g .. %g '%(idata.min(),idata.max()))\n",
    "    # ind contains column of matrix/row of vector corresponding to point [j,i]\n",
    "    ind = numpy.zeros( fdata.shape, dtype=int ) - int(1e6)\n",
    "    ind[missing_j,missing_i] = numpy.arange( n_missing )\n",
    "    if verbose: print('Building matrix')\n",
    "    A = scipy.sparse.lil_matrix( (n_missing, n_missing) )\n",
    "    b = numpy.zeros( (n_missing) )\n",
    "    ld = numpy.zeros( (n_missing) )\n",
    "    A[range(n_missing),range(n_missing)] = 0.\n",
    "    if verbose: print('Looping over cells')\n",
    "    for n in range(n_missing):\n",
    "        j,i = missing_j[n],missing_i[n]\n",
    "        im1 = ( i + ni - 1 ) % ni\n",
    "        ip1 = ( i + 1 ) % ni\n",
    "        jm1 = max( j-1, 0)\n",
    "        jp1 = min( j+1, nj-1)\n",
    "        if j>0 and mask[jm1,i]>0:\n",
    "            ld[n] -= 1.\n",
    "            ij = ind[jm1,i]\n",
    "            if ij>=0:\n",
    "                A[n,ij] = 1.\n",
    "            else:\n",
    "                b[n] -= fdata[jm1,i]\n",
    "        if mask[j,im1]>0:\n",
    "            ld[n] -= 1.\n",
    "            ij = ind[j,im1]\n",
    "            if ij>=0:\n",
    "                A[n,ij] = 1.\n",
    "            else:\n",
    "                b[n] -= fdata[j,im1]\n",
    "        if mask[j,ip1]>0:\n",
    "            ld[n] -= 1.\n",
    "            ij = ind[j,ip1]\n",
    "            if ij>=0:\n",
    "                A[n,ij] = 1.\n",
    "            else:\n",
    "                b[n] -= fdata[j,ip1]\n",
    "        if j<nj-1 and mask[jp1,i]>0:\n",
    "            ld[n] -= 1.\n",
    "            ij = ind[jp1,i]\n",
    "            if ij>=0:\n",
    "                A[n,ij] = 1.\n",
    "            else:\n",
    "                b[n] -= fdata[jp1,i]\n",
    "        if j==nj-1 and mask[j,ni-1-i]>0: # Tri-polar fold\n",
    "            ld[n] -= 1.\n",
    "            ij = ind[j,ni-1-i]\n",
    "            if ij>=0:\n",
    "                A[n,ij] = 1.\n",
    "            else:\n",
    "                b[n] -= fdata[j,ni-1-i]\n",
    "    if debug:\n",
    "        tmp = numpy.zeros((nj,ni)); tmp[ missing_j, missing_i ] = b\n",
    "        plt.figure(); plt.pcolormesh(tmp); plt.title('b (initial)'); plt.colorbar();\n",
    "    # Set leading diagonal\n",
    "    b[ld>=0] = 0.\n",
    "    A[range(n_missing),range(n_missing)] = ld - stabilizer\n",
    "    if debug:\n",
    "        tmp = numpy.zeros((nj,ni)); tmp[ missing_j, missing_i ] = b\n",
    "        plt.figure(); plt.pcolormesh(tmp); plt.title('b (final)'); plt.colorbar();\n",
    "        tmp = numpy.ones((nj,ni)); tmp[ missing_j, missing_i ] = A.diagonal()\n",
    "        plt.figure(); plt.pcolormesh(tmp); plt.title('A[i,i]'); plt.colorbar();\n",
    "    if verbose: print('Matrix constructed')\n",
    "    A = scipy.sparse.csr_matrix(A)\n",
    "    if verbose: print('Matrix converted')\n",
    "    new_data = numpy.ma.array( fdata, mask=(mask==0))\n",
    "    if maxiter is None:\n",
    "        x,info = scipy.sparse.linalg.bicg(A, b)\n",
    "    elif maxiter==0:\n",
    "        x = scipy.sparse.linalg.spsolve(A, b)\n",
    "    else:\n",
    "        x,info = scipy.sparse.linalg.bicg(A, b, maxiter=maxiter)\n",
    "    if verbose: print('Matrix inverted')\n",
    "    new_data[missing_j,missing_i] = x\n",
    "    return new_data\n",
    "test = fill_missing_data(q, ocn_mask, debug=False)\n",
    "(1-q.mask).sum(), (1-test.mask).sum(),int(ocn_mask.sum())"
   ]
  },
  {
   "cell_type": "code",
   "execution_count": null,
   "metadata": {},
   "outputs": [],
   "source": [
    "plt.figure(figsize=(16,6))\n",
    "plt.pcolormesh(src_qlon, src_qlat, numpy.ma.log10( src_data[0] ) ); plt.colorbar();\n",
    "plt.xlim(-130,-70); plt.ylim(65,85); plt.clim(-1.5,-.5); plt.title('Original data');\n",
    "plt.figure(figsize=(16,6))\n",
    "plt.pcolormesh(ocn_qlon, ocn_qlat, numpy.ma.log10( q_int ) ); plt.colorbar();\n",
    "plt.xlim(-130,-70); plt.ylim(65,85); plt.clim(-1.5,-.5); plt.title('Interpolated data');\n",
    "plt.figure(figsize=(16,6))\n",
    "plt.pcolormesh(ocn_qlon, ocn_qlat, numpy.ma.log10( q ) ); plt.colorbar();\n",
    "plt.xlim(-130,-70); plt.ylim(65,85); plt.clim(-1.5,-.5); plt.title('Interpolated data after masking');\n",
    "plt.figure(figsize=(16,6))\n",
    "plt.pcolormesh(ocn_qlon, ocn_qlat, numpy.ma.log10( test ) ); plt.colorbar();\n",
    "plt.xlim(-130,-70); plt.ylim(65,85); plt.clim(-1.5,-.5); plt.title('Final filled data on model grid');"
   ]
  },
  {
   "cell_type": "code",
   "execution_count": null,
   "metadata": {
    "collapsed": true
   },
   "outputs": [],
   "source": []
  }
 ],
 "metadata": {
  "kernelspec": {
   "display_name": "Python 3",
   "language": "python",
   "name": "python3"
  },
  "language_info": {
   "codemirror_mode": {
    "name": "ipython",
    "version": 3
   },
   "file_extension": ".py",
   "mimetype": "text/x-python",
   "name": "python",
   "nbconvert_exporter": "python",
   "pygments_lexer": "ipython3",
   "version": "3.6.2"
  }
 },
 "nbformat": 4,
 "nbformat_minor": 2
}
